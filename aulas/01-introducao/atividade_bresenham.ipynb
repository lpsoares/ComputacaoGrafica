{
 "cells": [
  {
   "attachments": {},
   "cell_type": "markdown",
   "metadata": {},
   "source": [
    "# 01 - Introdução\n",
    "\n",
    "Na atividade a seguir você deverá desenhar uma linha preenchendo os pixels entre dois pontos. Para essa atividade vamos usar o Numpy e Matplotlib. Assim vamos carregar as bibliotecas e vamos definir valores de resolução (altura e largura) da nossa janela."
   ]
  },
  {
   "cell_type": "code",
   "execution_count": null,
   "metadata": {},
   "outputs": [],
   "source": [
    "import numpy as np\n",
    "import matplotlib.pyplot as plt\n",
    "\n",
    "height = 8\n",
    "width = 8"
   ]
  },
  {
   "cell_type": "markdown",
   "metadata": {},
   "source": [
    "Agora vamos desenhar uma tela vazia. Verifique que criamos uma variável *frame_buffer* que irá armazenar os valores dos pixels."
   ]
  },
  {
   "cell_type": "code",
   "execution_count": null,
   "metadata": {},
   "outputs": [],
   "source": [
    "# Cria o espaço para a figura\n",
    "fig, axes = plt.subplots()\n",
    "\n",
    "# Cria um buffer de imagem inicialmente completamente preto (limpo)\n",
    "frame_buffer = np.zeros((height, width))\n",
    "\n",
    "# Define o tamanho da imagem e que a origem é no canto superior esquerdo\n",
    "extent = (0, width, height, 0)\n",
    "\n",
    "# Cria a figura\n",
    "axes.imshow(frame_buffer, interpolation='nearest', extent=extent, cmap='gray')\n",
    "axes.grid()"
   ]
  },
  {
   "cell_type": "markdown",
   "metadata": {},
   "source": [
    "Como exemplo vamos desenhar só dois pixels para entender o funcionamento do sistema."
   ]
  },
  {
   "cell_type": "code",
   "execution_count": null,
   "metadata": {},
   "outputs": [],
   "source": [
    "# Cria o espaço para a figura e desenha um grid\n",
    "fig, axes = plt.subplots()\n",
    "\n",
    "# Cria um buffer de imagem inicialmente completamente preto (limpo)\n",
    "frame_buffer = np.zeros((height, width))\n",
    "\n",
    "# Define o tamanho da imagem e que a origem é no canto superior esquerdo\n",
    "extent = (0, width, height, 0)\n",
    "\n",
    "# Define um pixel branco na posição (0, 0)\n",
    "frame_buffer[0][0] = 1\n",
    "\n",
    "# Define um pixel branco na posição (1, 2)\n",
    "frame_buffer[1][3] = 1\n",
    "# Perceba que você está plotando Y e X, e não X e Y\n",
    "\n",
    "# Cria a figura\n",
    "axes.imshow(frame_buffer, interpolation='nearest', extent=extent, cmap='gray')\n",
    "axes.grid()"
   ]
  },
  {
   "cell_type": "markdown",
   "metadata": {},
   "source": [
    "## Desenhando Linhas\n",
    "\n",
    "Crie uma rotina que seja capaz de preencher os pixels entre os pontos A(2,1) e B(6,5)."
   ]
  },
  {
   "cell_type": "code",
   "execution_count": null,
   "metadata": {},
   "outputs": [],
   "source": [
    "# Cria o espaço para a figura e desenha um grid\n",
    "fig, axes = plt.subplots()\n",
    "\n",
    "# Cria um buffer de imagem inicialmente completamente preto (limpo)\n",
    "frame_buffer = np.zeros((height, width))\n",
    "\n",
    "# Define o tamanho da imagem e que a origem é no canto superior esquerdo\n",
    "extent = (0, width, height, 0)\n",
    "\n",
    "# FAÇA AQUI SUA IMPLEMENTAÇÃO\n",
    "# Ponto A = (2,1)\n",
    "# Ponto B = (6,5)\n",
    "\n",
    "\n",
    "# Cria a figura\n",
    "axes.imshow(frame_buffer, interpolation='nearest', extent=extent, cmap='gray')\n",
    "axes.grid()"
   ]
  },
  {
   "cell_type": "markdown",
   "metadata": {},
   "source": [
    "Crie agora uma rotina que desenha linhas em todas as direções."
   ]
  },
  {
   "cell_type": "code",
   "execution_count": null,
   "metadata": {},
   "outputs": [],
   "source": [
    "# Cria o espaço para a figura e desenha um grid\n",
    "fig, axes = plt.subplots()\n",
    "\n",
    "# Cria um buffer de imagem inicialmente completamente preto (limpo)\n",
    "frame_buffer = np.zeros((height, width))\n",
    "\n",
    "# Define o tamanho da imagem e que a origem é no canto superior esquerdo\n",
    "extent = (0, width, height, 0)\n",
    "\n",
    "# FAÇA AQUI SUA IMPLEMENTAÇÃO\n",
    "def desenha_linha(p0, p1):\n",
    "    pass\n",
    "\n",
    "desenha_linha((0, 3), (2, 1))\n",
    "desenha_linha((5, 1), (7, 3))\n",
    "desenha_linha((5, 1), (2, 1))\n",
    "desenha_linha((1, 2), (1, 6))\n",
    "desenha_linha((6, 2), (6, 6))\n",
    "desenha_linha((1, 6), (6, 6))\n",
    "desenha_linha((4, 4), (4, 5))\n",
    "\n",
    "# Cria a figura\n",
    "axes.imshow(frame_buffer, interpolation='nearest', extent=extent, cmap='gray')\n",
    "axes.grid()"
   ]
  }
 ],
 "metadata": {
  "kernelspec": {
   "display_name": "Python 3 (ipykernel)",
   "language": "python",
   "name": "python3"
  },
  "language_info": {
   "codemirror_mode": {
    "name": "ipython",
    "version": 3
   },
   "file_extension": ".py",
   "mimetype": "text/x-python",
   "name": "python",
   "nbconvert_exporter": "python",
   "pygments_lexer": "ipython3",
   "version": "3.11.8"
  },
  "vscode": {
   "interpreter": {
    "hash": "5c7b89af1651d0b8571dde13640ecdccf7d5a6204171d6ab33e7c296e100e08a"
   }
  }
 },
 "nbformat": 4,
 "nbformat_minor": 4
}
