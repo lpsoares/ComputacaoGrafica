{
 "cells": [
  {
   "cell_type": "markdown",
   "metadata": {},
   "source": [
    "# 01 - Renderizando Triângulos\n",
    "\n",
    "Teremos de converter objetos em um espaço 2D contínuo para um conjunto de pixels organizados em uma matriz. Para desenhar pontos, podemos simplesmente identificar o pixel que contém o ponto e colorir o respectivo ponto; para desenhar linhas, podemos usar o algoritmo de Bresenham; porém, para desenhar polígonos, precisamos identificar inicialmente quais pixels vão ser responsáveis pelo espaço do polígono e para isso teremos de descobrir como fazer esse preenchimento."
   ]
  },
  {
   "cell_type": "code",
   "execution_count": 1,
   "metadata": {},
   "outputs": [],
   "source": [
    "# Código base para produzir o grid interativo\n",
    "\n",
    "import sys\n",
    "\n",
    "if 'google.colab' in sys.modules:\n",
    "    !pip install ipycanvas\n",
    "    from google.colab import output\n",
    "    output.enable_custom_widget_manager()\n",
    "\n",
    "from ipycanvas import Canvas\n",
    "import numpy as np\n",
    "import ipywidgets as widgets\n",
    "\n",
    "def cria_grid(d=(8,8), p=[], cor='#FF0000'):\n",
    "    # Grid size and cell size for a compact display\n",
    "    rows, cols = d\n",
    "    cell_size = 32\n",
    "    label_space = 22  # space for row/col numbers\n",
    "    canvas_width = cols * cell_size + label_space\n",
    "    canvas_height = rows * cell_size + label_space\n",
    "\n",
    "    # Create a blank grid\n",
    "    grid = np.zeros((rows, cols), dtype=int)\n",
    "\n",
    "    def draw_grid():\n",
    "        canvas.clear()\n",
    "        # Draw column numbers\n",
    "        canvas.font = '16px sans-serif'\n",
    "        canvas.fill_style = '#222'\n",
    "        for j in range(cols):\n",
    "            canvas.fill_text(str(j), label_space + j*cell_size + cell_size//2 - 6, label_space - 6)\n",
    "        # Draw row numbers\n",
    "        for i in range(rows):\n",
    "            canvas.fill_text(str(i), 2, label_space + i*cell_size + cell_size//2 + 6)\n",
    "        # Draw grid lines\n",
    "        for i in range(rows+1):\n",
    "            canvas.stroke_style = '#bbb'\n",
    "            canvas.stroke_line(label_space, label_space + i*cell_size, canvas_width, label_space + i*cell_size)\n",
    "        for j in range(cols+1):\n",
    "            canvas.stroke_style = '#bbb'\n",
    "            canvas.stroke_line(label_space + j*cell_size, label_space, label_space + j*cell_size, canvas_height)\n",
    "        # Draw painted cells\n",
    "        for i in range(rows):\n",
    "            for j in range(cols):\n",
    "                if grid[i, j] == 1:\n",
    "                    canvas.fill_style = '#1976d2'\n",
    "                    canvas.fill_rect(label_space + j*cell_size + 1, label_space + i*cell_size + 1, cell_size-2, cell_size-2)\n",
    "        # Draw start and end points\n",
    "        canvas.fill_style = cor\n",
    "        for point in p:\n",
    "            canvas.fill_rect(label_space + point[1]*cell_size + 1, label_space + point[0]*cell_size + 1, cell_size-2, cell_size-2)\n",
    "\n",
    "    canvas = Canvas(width=canvas_width, height=canvas_height)\n",
    "    draw_grid()\n",
    "\n",
    "    painting = [False]\n",
    "\n",
    "    def paint_cell(x, y):\n",
    "        col = int((x - label_space) // cell_size)\n",
    "        row = int((y - label_space) // cell_size)\n",
    "        if 0 <= row < rows and 0 <= col < cols:\n",
    "            if grid[row, col] == 0 and (row, col) not in p:\n",
    "                grid[row, col] = 1\n",
    "                draw_grid()\n",
    "\n",
    "    def on_mouse_down(x, y):\n",
    "        painting[0] = True\n",
    "        paint_cell(x, y)\n",
    "\n",
    "    def on_mouse_up(x, y):\n",
    "        painting[0] = False\n",
    "\n",
    "    def on_mouse_move(x, y):\n",
    "        if painting[0]:\n",
    "            paint_cell(x, y)\n",
    "\n",
    "    canvas.on_mouse_down(on_mouse_down)\n",
    "    canvas.on_mouse_up(on_mouse_up)\n",
    "    canvas.on_mouse_move(on_mouse_move)\n",
    "\n",
    "    # Button to clear grid\n",
    "    def clear_grid(_):\n",
    "        grid[:, :] = 0\n",
    "        draw_grid()\n",
    "\n",
    "    clear_btn = widgets.Button(description='Limpar grade')\n",
    "    clear_btn.on_click(clear_grid)\n",
    "\n",
    "    # Center the canvas using a Box with layout\n",
    "    centered = widgets.HBox([canvas], layout=widgets.Layout(justify_content='center'))\n",
    "    display(widgets.VBox([centered, clear_btn]))"
   ]
  },
  {
   "cell_type": "markdown",
   "metadata": {},
   "source": [
    "1. Considere os vértices de um triângulo como informado abaixo, e os pixeis A, B, C\n",
    "\n",
    "Triângulo:  P0 = (2,11)   P1=(11,7)     P2=(6, 2) \n",
    "\n",
    "Pixels:  A = (5, 7)  B=(9, 5)  C=(8, 13)\n",
    "\n",
    "Realize os cálculos no espaço abaixo para identificar se os pixels A, B e C estão dentro, fora ou sobre a aresta do triângulo (P0, P1, P2). Considere o centro do pixel como ponto de amostra.\n"
   ]
  },
  {
   "cell_type": "code",
   "execution_count": null,
   "metadata": {},
   "outputs": [],
   "source": []
  },
  {
   "cell_type": "markdown",
   "metadata": {},
   "source": [
    "2. Desenhe os pontos e verifique se seus cálculos estão coerentes."
   ]
  },
  {
   "cell_type": "code",
   "execution_count": 2,
   "metadata": {},
   "outputs": [
    {
     "data": {
      "application/vnd.jupyter.widget-view+json": {
       "model_id": "1b5be5199be34ae79571adfe9805953e",
       "version_major": 2,
       "version_minor": 0
      },
      "text/plain": [
       "VBox(children=(HBox(children=(Canvas(height=534, width=534),), layout=Layout(justify_content='center')), Butto…"
      ]
     },
     "metadata": {},
     "output_type": "display_data"
    }
   ],
   "source": [
    "cria_grid(d=(16, 16))  # Call the function to display the grid"
   ]
  }
 ],
 "metadata": {
  "kernelspec": {
   "display_name": "env",
   "language": "python",
   "name": "python3"
  },
  "language_info": {
   "codemirror_mode": {
    "name": "ipython",
    "version": 3
   },
   "file_extension": ".py",
   "mimetype": "text/x-python",
   "name": "python",
   "nbconvert_exporter": "python",
   "pygments_lexer": "ipython3",
   "version": "3.10.18"
  }
 },
 "nbformat": 4,
 "nbformat_minor": 4
}
