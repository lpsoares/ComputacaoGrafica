{
 "cells": [
  {
   "attachments": {},
   "cell_type": "markdown",
   "metadata": {},
   "source": [
    "# 05 - Sistema de Coordenadas\n",
    "\n",
    "Para essa atividade vamos usar o Numpy e Matplotlib. Assim vamos carregar as bibliotecas."
   ]
  },
  {
   "cell_type": "code",
   "execution_count": 1,
   "metadata": {},
   "outputs": [],
   "source": [
    "import numpy\n",
    "import matplotlib.pyplot as plt"
   ]
  },
  {
   "attachments": {},
   "cell_type": "markdown",
   "metadata": {},
   "source": [
    "Vamos começar essa atividade no espaço 2D. Vamos criar assim algumas funções auxiliares que permitam já configurar um gráfico 2D e desenhar um quadrado em função de suas coordenadas."
   ]
  },
  {
   "cell_type": "code",
   "execution_count": 6,
   "metadata": {},
   "outputs": [],
   "source": [
    "# Faz o setup para desenhar gráficos\n",
    "def graph():\n",
    "    fig = plt.figure()\n",
    "    ax = plt.axes()\n",
    "    plt.grid()\n",
    "    ax.set_xlim(-2, 5)\n",
    "    ax.set_ylim(-2, 5)\n",
    "    ax.axhline(0, color='black') # deixa o X do eixo 0 em destaque\n",
    "    ax.axvline(0, color='black') # deixa o Y do eixo 0 em destaque\n",
    "    #ax.set_aspect('equal') # Não suportado em todas as plataformas\n",
    "    ax.set(xlabel='x', ylabel='y')\n",
    "    fig.tight_layout()\n",
    "    return ax\n",
    "\n",
    "# Desenha um quadrado a partir dos vértices e cor fornecida\n",
    "def draw_square(points, color=\"red\"):\n",
    "    plt.scatter(points[0], points[1], s=20, color=color)\n",
    "    patch = plt.Polygon(points.transpose()[:,0:2], color=color)\n",
    "    plt.gca().add_patch(patch)"
   ]
  },
  {
   "attachments": {},
   "cell_type": "markdown",
   "metadata": {},
   "source": [
    "## Transformações Inversas\n",
    "\n",
    "Vamos começar desenhando um quadrado em 2D pelos seus 4 vértices."
   ]
  },
  {
   "cell_type": "code",
   "execution_count": 7,
   "metadata": {},
   "outputs": [
    {
     "data": {
      "image/png": "[encoded data removed]",
      "text/plain": [
       "<Figure size 640x480 with 1 Axes>"
      ]
     },
     "metadata": {},
     "output_type": "display_data"
    }
   ],
   "source": [
    "ax = graph() # configura o espaço para desenhar um gráfico 2D\n",
    "\n",
    "# Pontos originais do vértice de um quadrado exemplo\n",
    "p_quadrado = numpy.array([[1.0, 2.0, 2.0, 1.0],\n",
    "                          [0.0, 0.0, 1.0, 1.0]])\n",
    "\n",
    "# Desenha o quadrado\n",
    "draw_square(p_quadrado, \"red\")\n",
    "\n",
    "# Prepara uma matriz de rotação e aplica nos pontos\n",
    "angle = numpy.radians(45)\n",
    "Mrot45 = numpy.array([[numpy.cos(angle), -numpy.sin(angle)],\n",
    "                    [numpy.sin(angle),  numpy.cos(angle)]])\n",
    "p_quadrado_rot = numpy.matmul(Mrot45, p_quadrado)\n",
    "\n",
    "# Desenha o quadrado com os vértice rotacionados\n",
    "draw_square(p_quadrado_rot, \"blue\")\n",
    "\n",
    "plt.show()"
   ]
  },
  {
   "attachments": {},
   "cell_type": "markdown",
   "metadata": {},
   "source": [
    "A matriz de rotação (Mrot45) criada acima faz uma rotação de 45° no sentido anti-horário, queremos agora voltar o quadrado (seus vértices) para a posição original. Assim, somente usando a matriz de rotação (Mrot45) e os pontos já rotacionados (p_quadrado_rot), crie uma nova matriz que faça os pontos voltarem para a posição original. A proposta dessa atividade é que saiba reverter uma trasnformação (e não aplicar os senos e cossenos para fazer uma nova matriz de rotação no sentido inverso)."
   ]
  },
  {
   "cell_type": "code",
   "execution_count": null,
   "metadata": {},
   "outputs": [],
   "source": [
    "ax = graph() # configura o espaço para desenhar um gráfico 2D\n",
    "\n",
    "draw_square(p_quadrado_rot, \"blue\")\n",
    "\n",
    "# FAÇA AQUI SUA IMPLEMENTAÇÃO\n",
    "\n",
    "#draw_square(p_quadrado_rot_45, \"green\")\n",
    "\n",
    "plt.show()"
   ]
  },
  {
   "attachments": {},
   "cell_type": "markdown",
   "metadata": {},
   "source": [
    "## Mudança de base\n",
    "\n",
    "Vamos fazer agora uma mudança de base. Abaixo está um quadrado na base original."
   ]
  },
  {
   "cell_type": "code",
   "execution_count": null,
   "metadata": {},
   "outputs": [],
   "source": [
    "ax = graph() # configura o espaço para desenhar um gráfico 2D\n",
    "\n",
    "# Pontos originais do vértice de um quadrado exemplo\n",
    "p_quadrado = numpy.array([[0.0, 1.0, 1.0, 0.0],\n",
    "                          [0.0, 0.0, 1.0, 1.0]])\n",
    "\n",
    "# Desenhando o quadrado\n",
    "draw_square(p_quadrado, \"red\")\n",
    "\n",
    "plt.show()"
   ]
  },
  {
   "attachments": {},
   "cell_type": "markdown",
   "metadata": {},
   "source": [
    "Leve esse quadrado para uma nova base com origem no (1,1) e vetores u e v respectivamente ($\\frac{\\sqrt{2}}{2}$, $\\frac{\\sqrt{2}}{2}$) e (0,-2).\n",
    "\n",
    "! Para esse exemplo você vai quere usar coordenadas homogêneas."
   ]
  },
  {
   "cell_type": "code",
   "execution_count": null,
   "metadata": {},
   "outputs": [],
   "source": [
    "ax = graph() # configura o espaço para desenhar um gráfico 2D\n",
    "\n",
    "o = [1, 1]\n",
    "u = [numpy.sqrt(2)/2, numpy.sqrt(2)/2]\n",
    "v = [0, -2]\n",
    "\n",
    "# FAÇA AQUI SUA IMPLEMENTAÇÃO\n",
    "\n",
    "plt.show()\n"
   ]
  },
  {
   "attachments": {},
   "cell_type": "markdown",
   "metadata": {},
   "source": [
    "## Rotações 3D (Quatérnios)\n",
    "\n",
    "Vamos ver agora operações no espaço 3D para tratar o nosso mundo de uma câmera no espaço. Para começar vamos criar as funções auxiliares para o espaço 3D."
   ]
  },
  {
   "cell_type": "code",
   "execution_count": null,
   "metadata": {},
   "outputs": [],
   "source": [
    "# Faz o setup para desenhar gráficos em 3D\n",
    "def graph3d(c = 1.0):\n",
    "    fig = plt.figure()\n",
    "    ax = plt.axes(projection='3d')\n",
    "    ax.set(xlabel='x', ylabel='y', zlabel='z')\n",
    "    ax.set_xlim3d(-4, 4)  # faixa de visualização de X\n",
    "    ax.set_ylim3d(-4, 4)  # faixa de visualização de Y\n",
    "    ax.set_zlim3d(-4, 4)  # faixa de visualização de Z\n",
    "    ax.set_aspect('equal')\n",
    "    ax.quiver([-c/2,0,0],[0,-c/2,0],[0,0,-c/2],\n",
    "              [c,0,0],[0,c,0],[0,0,c],\n",
    "              arrow_length_ratio=0.2, color=\"grey\")\n",
    "    fig.tight_layout()\n",
    "    ax.view_init(elev=20.0, azim=30.0,  vertical_axis='y')\n",
    "    return ax"
   ]
  },
  {
   "attachments": {},
   "cell_type": "markdown",
   "metadata": {},
   "source": [
    "Vamos fazer uma rotação com quatérnios usando o exemplo fornecido. Assim, crie uma função que recebe o eixo que se deseja rotacionar bem como o ângulo desejado (em radianos) e retorne uma matriz homogênea [4x4] que faça a rotação desejada em pontos no espaço."
   ]
  },
  {
   "cell_type": "code",
   "execution_count": null,
   "metadata": {},
   "outputs": [],
   "source": [
    "#%matplotlib widget\n",
    "ax = graph3d() # configura o espaço para desenhar um gráfico 3D\n",
    "\n",
    "vetor = numpy.array([3, 0, 0])\n",
    "# Para a operação você vai possivelmente mudar para coordenadas homogêneas\n",
    "\n",
    "# Desenha vetor exemplo\n",
    "ax.quiver(0, 0, 0, *vetor)\n",
    "\n",
    "# FAÇA AQUI SUA IMPLEMENTAÇÃO\n",
    "\n",
    "# Desenha vetor exemplo rotacionado\n",
    "#ax.quiver(0, 0, 0, *vetor_rot[:3], color=\"red\")\n",
    "\n",
    "plt.show()"
   ]
  },
  {
   "attachments": {},
   "cell_type": "markdown",
   "metadata": {},
   "source": [
    "A função de LookAt serve para ajustar os objetos na cena em função de uma câmera a ser centralizada e reorientada. Use como exemplo uma câmera posicionada nas coordenadas (2, 1, 0) e que rotacionamos 45 graus no sentido horário em Y para que ela fique olhando um objeto a frente dela."
   ]
  },
  {
   "cell_type": "code",
   "execution_count": null,
   "metadata": {},
   "outputs": [],
   "source": [
    "#%matplotlib widget\n",
    "ax = graph3d() # configura o espaço para desenhar um gráfico 3D\n",
    "\n",
    "# Câmera\n",
    "pos_camera = numpy.array([2.0, 1.0, 0.0])\n",
    "\n",
    "# ângulo de rotação\n",
    "angle = numpy.radians(-45)\n",
    "\n",
    "# rotaciona 45 graus no eixo Y\n",
    "Mrot45 = numpy.array([[numpy.cos(angle), 0, numpy.sin(angle), 0],\n",
    "                      [0, 1, 0, 0],\n",
    "                      [-numpy.sin(angle), 0, numpy.cos(angle), 0],\n",
    "                      [0, 0, 0, 1]])\n",
    "\n",
    "# direção padrão da câmera sendo ajustada\n",
    "dir_camera = numpy.array([0.0, 0.0, -1.0, 0.0])\n",
    "dir_camera = numpy.matmul(Mrot45, dir_camera.transpose()).transpose()\n",
    "\n",
    "# desenhando vetor da câmera\n",
    "ax.quiver(*pos_camera[:3], *dir_camera[:3], color=\"green\")\n",
    "\n",
    "# Objeto\n",
    "pos_objeto = numpy.array([3.0, 1.0, -1.0])\n",
    "ax.scatter(*pos_objeto[:3], color='blue', s=20, marker = \"x\")\n",
    "\n",
    "plt.show()"
   ]
  },
  {
   "attachments": {},
   "cell_type": "markdown",
   "metadata": {},
   "source": [
    "Desenvolva uma função muito simples de lookat.\n",
    "\n",
    "Crie e aplique uma função lookAt que receba a posição e orientação da câmera (em radianos) e gere a matriz que fará os objetos aparecer como se a câmera estivesse na posição (0,0,0) olhando para o Z negativo.\n",
    "\n",
    "!Dica: se você fizer de forma correta a atividade, o ponto deverá aparecer um pouco a frente da coordenada (0,0,-1)."
   ]
  },
  {
   "cell_type": "code",
   "execution_count": null,
   "metadata": {},
   "outputs": [],
   "source": [
    "#%matplotlib widget\n",
    "ax = graph3d() # configura o espaço para desenhar um gráfico 3D\n",
    "\n",
    "# FAÇA AQUI SUA IMPLEMENTAÇÃO\n",
    "\n",
    "#ax.scatter(*pos_objeto_look[:3], color='red', s=20, marker = \"x\")\n",
    "\n",
    "plt.show()"
   ]
  },
  {
   "cell_type": "code",
   "execution_count": null,
   "metadata": {},
   "outputs": [],
   "source": []
  }
 ],
 "metadata": {
  "kernelspec": {
   "display_name": "base",
   "language": "python",
   "name": "python3"
  },
  "language_info": {
   "codemirror_mode": {
    "name": "ipython",
    "version": 3
   },
   "file_extension": ".py",
   "mimetype": "text/x-python",
   "name": "python",
   "nbconvert_exporter": "python",
   "pygments_lexer": "ipython3",
   "version": "3.9.13"
  },
  "vscode": {
   "interpreter": {
    "hash": "ad2bdc8ecc057115af97d19610ffacc2b4e99fae6737bb82f5d7fb13d2f2c186"
   }
  }
 },
 "nbformat": 4,
 "nbformat_minor": 4
}
