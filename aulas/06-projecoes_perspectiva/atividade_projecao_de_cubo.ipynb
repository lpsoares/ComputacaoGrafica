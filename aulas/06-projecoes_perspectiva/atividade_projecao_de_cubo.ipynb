{
 "cells": [
  {
   "cell_type": "markdown",
   "metadata": {},
   "source": [
    "# 01 - Projetando um Cubo\n",
    "\n",
    "O cubo que você vai projetar nesta atividade está centrado na origem de um sistema de coordenadas cartesianas tridimensionais e suas faces são paralelas aos planos coordenados. As arestas desse cubo medem 2 unidades e seus vértices são os pontos A, B, C, D, E, F, G e H.\n",
    "\n",
    "Você vai representar esse cubo considerando o modelo simplificado de câmera _pin-hole_. Note que o objeto tridimensional será desenhado em um plano que corresponde o fundo da câmera. Para fazer isso, além de conhecer a posição da câmera, é preciso estabelecer relações entre as coordenadas $(x,y,z)$ de um ponto do objeto tridimensional e as coordenadas $(u,v)$ desse mesmo ponto na representação bidimensional. É o que você vai fazer a seguir.\n",
    "\n",
    "A figura mostra um esquema da câmera _pin-hole_, com orifício no centro O de uma das faces. As imagens são formadas na face oposta, que tem centro O’. Nessa figura, P’ é a imagem do ponto P. Sua primeira tarefa será estabelecer uma relação entre as distâncias $u$ e $v$ (deslocamentos horizontal e vertical da imagem em relação ao ponto O’) e as distâncias $a$, $b$ e $c$ (medidas sobre direções paralelas às arestas da câmera). \n",
    "\n",
    "![Sequência de Transformações](diagrama_proj.png)"
   ]
  },
  {
   "cell_type": "markdown",
   "metadata": {},
   "source": [
    "a) transformação a."
   ]
  },
  {
   "cell_type": "markdown",
   "metadata": {},
   "source": [
    "b) transformação b."
   ]
  },
  {
   "cell_type": "markdown",
   "metadata": {},
   "source": [
    "c) transformação c."
   ]
  },
  {
   "cell_type": "markdown",
   "metadata": {},
   "source": [
    "2. Crie uma matriz de transformação 2x2 (ou seja, em um espaço 2D) que:\n",
    "\n",
    "a) faça um objeto ficar três vezes mais largo (em x); "
   ]
  },
  {
   "cell_type": "markdown",
   "metadata": {},
   "source": [
    "b) faça um objeto rotacionar 30 graus no sentido horário, em torno da origem; "
   ]
  },
  {
   "cell_type": "markdown",
   "metadata": {},
   "source": [
    "c) faça um objeto rotacionar 45 graus no sentido anti-horário e depois escale com fator 3: "
   ]
  },
  {
   "cell_type": "markdown",
   "metadata": {},
   "source": [
    "3. Crie matrizes de homogênea 3x3 (ou seja, em um espaço 2D) que:\n",
    "\n",
    "a) Translade um objeto em x por 7 e y por 3;\n"
   ]
  },
  {
   "cell_type": "markdown",
   "metadata": {},
   "source": [
    "b) rotacione um objeto de 45 graus no sentido anti-horário em torno do seu centro geométrico."
   ]
  }
 ],
 "metadata": {
  "kernelspec": {
   "display_name": "env",
   "language": "python",
   "name": "python3"
  },
  "language_info": {
   "codemirror_mode": {
    "name": "ipython",
    "version": 3
   },
   "file_extension": ".py",
   "mimetype": "text/x-python",
   "name": "python",
   "nbconvert_exporter": "python",
   "pygments_lexer": "ipython3",
   "version": "3.10.18"
  }
 },
 "nbformat": 4,
 "nbformat_minor": 4
}
