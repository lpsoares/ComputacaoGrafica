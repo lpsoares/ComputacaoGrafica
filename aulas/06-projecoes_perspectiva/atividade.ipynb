{
 "cells": [
  {
   "attachments": {},
   "cell_type": "markdown",
   "metadata": {},
   "source": [
    "# 06 - Projeções\n",
    "\n",
    "Para essa atividade vamos usar o Numpy e Matplotlib. Assim vamos carregar as bibliotecas."
   ]
  },
  {
   "cell_type": "code",
   "execution_count": null,
   "metadata": {},
   "outputs": [],
   "source": [
    "import numpy as np\n",
    "import matplotlib.pyplot as plt\n",
    "from mpl_toolkits.mplot3d.art3d import Poly3DCollection"
   ]
  },
  {
   "attachments": {},
   "cell_type": "markdown",
   "metadata": {},
   "source": [
    "Vamos definir algumas funções auxiliares que vão nos ajudar a interpretar os resultados nos gráficos."
   ]
  },
  {
   "cell_type": "code",
   "execution_count": null,
   "metadata": {},
   "outputs": [],
   "source": [
    "# Faz o setup para desenhar gráficos em 2D\n",
    "def graph(w, h):\n",
    "    fig = plt.figure()\n",
    "    ax = plt.axes()\n",
    "    plt.grid()\n",
    "    ax.set_xlim(-1, w)\n",
    "    ax.set_ylim(-1, h)\n",
    "    ax.axhline(0, color='black') # deixa o X do eixo 0 em destaque\n",
    "    ax.axvline(0, color='black') # deixa o Y do eixo 0 em destaque\n",
    "    ax.set_aspect('equal')\n",
    "    ax.set(xlabel='x', ylabel='y')\n",
    "    ax.invert_yaxis()\n",
    "\n",
    "    return ax\n",
    "\n",
    "# Faz o setup para desenhar gráficos em 3D\n",
    "def graph3d(c = 1.0):\n",
    "    fig = plt.figure()\n",
    "    ax = plt.axes(projection='3d')\n",
    "    ax.set(xlabel='x', ylabel='y', zlabel='z')\n",
    "    ax.set_xlim3d(-4, 4)  # faixa de visualização de X\n",
    "    ax.set_ylim3d(-3, 3)  # faixa de visualização de Y\n",
    "    ax.set_zlim3d(-4, 4)  # faixa de visualização de Z\n",
    "    #ax.set_aspect('equal') # Não suportado em todas as plataformas\n",
    "    ax.quiver([-c/2,0,0],[0,-c/2,0],[0,0,-c/2],\n",
    "              [c,0,0],[0,c,0],[0,0,c],\n",
    "              arrow_length_ratio=0.2, color=\"grey\")\n",
    "    fig.tight_layout()\n",
    "    ax.view_init(elev=20.0, azim=30.0,  vertical_axis='y')\n",
    "    return ax\n",
    "\n",
    "# Desenha um plano no espaço\n",
    "def draw_plane(ax, w, h, d):\n",
    "    pontos = np.array([[-w/2.0, w/2.0, w/2.0, -w/2.0],\n",
    "                       [-h/2.0, -h/2.0, h/2.0, h/2.0],\n",
    "                       [d, d, d, d]])\n",
    "    tri = Poly3DCollection([pontos.transpose()], alpha=.25)\n",
    "    tri.set_color('blue')\n",
    "    tri.set_edgecolor('k')\n",
    "    ax.add_collection3d(tri)\n",
    "\n",
    "# Desenha um cubo no espaço\n",
    "def draw_cube(ax):\n",
    "    #stackoverflow.com/questions/42611342/\n",
    "    pos=(0,0,0)\n",
    "    size=(2,2,2)\n",
    "    o = [a - b / 2 for a, b in zip(pos, size)]\n",
    "    l, w, h = size\n",
    "    x = [[o[0], o[0] + l, o[0] + l, o[0], o[0]],  \n",
    "         [o[0], o[0] + l, o[0] + l, o[0], o[0]],  \n",
    "         [o[0], o[0] + l, o[0] + l, o[0], o[0]],  \n",
    "         [o[0], o[0] + l, o[0] + l, o[0], o[0]]]  \n",
    "    y = [[o[1], o[1], o[1] + w, o[1] + w, o[1]],  \n",
    "         [o[1], o[1], o[1] + w, o[1] + w, o[1]],  \n",
    "         [o[1], o[1], o[1], o[1], o[1]],          \n",
    "         [o[1] + w, o[1] + w, o[1] + w, o[1] + w, o[1] + w]]   \n",
    "    z = [[o[2], o[2], o[2], o[2], o[2]],                       \n",
    "         [o[2] + h, o[2] + h, o[2] + h, o[2] + h, o[2] + h],   \n",
    "         [o[2], o[2], o[2] + h, o[2] + h, o[2]],               \n",
    "         [o[2], o[2], o[2] + h, o[2] + h, o[2]]]               \n",
    "    X, Y, Z = np.array(x), np.array(y), np.array(z)\n",
    "    ax.plot_surface(X, Y, Z, color='b', rstride=1, cstride=1, alpha=0.1)\n"
   ]
  },
  {
   "attachments": {},
   "cell_type": "markdown",
   "metadata": {},
   "source": [
    "## Transformações Projetivas\n",
    "\n",
    "Vamos começar com a forma mais simples de projeção. Traga os pontos para um plano de projeção em uma distância d=-2 da câmera. Os pontos no espaço devem aparece exatamente em cima do plano."
   ]
  },
  {
   "cell_type": "code",
   "execution_count": null,
   "metadata": {},
   "outputs": [],
   "source": [
    "#%matplotlib widget\n",
    "ax = graph3d() # configura o espaço para desenhar um gráfico 3D\n",
    "\n",
    "# distância do plano de projeção\n",
    "d = -2\n",
    "\n",
    "# plano de projeção de tamanho 3x2\n",
    "draw_plane(ax, 3, 2, d)\n",
    "\n",
    "# Pontos\n",
    "pontos = np.array([[-1.8, 2.0, -0.5, 1.0],\n",
    "                   [0.0, -1.2, 0.7, 1.0],\n",
    "                   [-3.0, -4.0, -3.2, -3.5]])\n",
    "ax.scatter(pontos[0], pontos[1], pontos[2], color='red', s=20, marker = \"x\")\n",
    "\n",
    "# FAÇA AQUI SUA IMPLEMENTAÇÃO\n",
    "# Ajustar os pontos para coordenadas homogêneas\n",
    "# Calcular a matriz de projeção\n",
    "# Multiplicar a matriz de projeção pelos pontos\n",
    "# Divisão Homogênea (Homogeneous Divide)\n",
    "\n",
    "# Plota os novos pontos no gráfico\n",
    "#ax.scatter(pontos_proj[0], pontos_proj[1], pontos_proj[2], color='green', s=20, marker = \"x\")\n",
    "\n",
    "plt.show()"
   ]
  },
  {
   "attachments": {},
   "cell_type": "markdown",
   "metadata": {},
   "source": [
    "Suponha que os vértices a seguir já estão posicionados na coordenada da câmera. Faça a Transformação desses pontos para o espaço NDC(Normalized Device Coords). Nesse caso os pontos devem aparecer dentro do cubo."
   ]
  },
  {
   "cell_type": "code",
   "execution_count": null,
   "metadata": {},
   "outputs": [],
   "source": [
    "#%matplotlib widget\n",
    "ax = graph3d() # configura o espaço para desenhar um gráfico 3D\n",
    "draw_cube(ax) # desenha o cubo do NDC\n",
    "\n",
    "# field of view na vertical (em Y)\n",
    "fovy = 45\n",
    "\n",
    "# Resolução da imagem final\n",
    "W = 300\n",
    "H = 200\n",
    "\n",
    "# Planos near e far\n",
    "near = 0.5\n",
    "far = 10\n",
    "\n",
    "# Pontos\n",
    "pontos = np.array([[1.0, 1.0, 2.0, 2.0],\n",
    "                   [1.0, 1.0, 1.0, 1.0],\n",
    "                   [-2.0, -3.0, -2.0, -3.0]])\n",
    "ax.scatter(pontos[0], pontos[1], pontos[2], color='red', s=20, marker = \"x\")\n",
    "\n",
    "# FAÇA AQUI SUA IMPLEMENTAÇÃO\n",
    "# Encontrando razão de aspecto da visualização\n",
    "# Encontrando quantidades derivadas (Right e Top)\n",
    "# Ajustar os pontos para coordenadas homogêneas\n",
    "# Calcular a matriz de projeção\n",
    "# Multiplicar a matriz de perspectiva pelos pontos\n",
    "# Divisão Homogênea (Homogeneous Divide)\n",
    "\n",
    "# Plota os novos pontos no gráfico\n",
    "# ax.scatter(pontos_proj[0], pontos_proj[1], pontos_proj[2], color='green', s=20, marker = \"x\")\n",
    "\n",
    "plt.show()"
   ]
  },
  {
   "attachments": {},
   "cell_type": "markdown",
   "metadata": {},
   "source": [
    "Faça agora a transformação dos pontos acima para coordenadas de tela. Projete só as coordenadas 2D diretamente no gráfico abaixo. Os 4 pontos devem aparecer na tela."
   ]
  },
  {
   "cell_type": "code",
   "execution_count": null,
   "metadata": {},
   "outputs": [],
   "source": [
    "ax = graph(W, H) # configura o espaço para desenhar um gráfico 2D\n",
    "\n",
    "# Calcular a matriz de transformação de tela (Screen)\n",
    "# Multiplicar a matriz de perspectiva pelos pontos\n",
    "# Divisão Homogênea (Homogeneous Divide)\n",
    "\n",
    "# Plota os pontos finais no gráfico 2D\n",
    "#plt.scatter(pontos2d[0], pontos2d[1], s=20, color=\"blue\")\n"
   ]
  }
 ],
 "metadata": {
  "kernelspec": {
   "display_name": "base",
   "language": "python",
   "name": "python3"
  },
  "language_info": {
   "codemirror_mode": {
    "name": "ipython",
    "version": 3
   },
   "file_extension": ".py",
   "mimetype": "text/x-python",
   "name": "python",
   "nbconvert_exporter": "python",
   "pygments_lexer": "ipython3",
   "version": "3.9.13"
  },
  "vscode": {
   "interpreter": {
    "hash": "ad2bdc8ecc057115af97d19610ffacc2b4e99fae6737bb82f5d7fb13d2f2c186"
   }
  }
 },
 "nbformat": 4,
 "nbformat_minor": 4
}
