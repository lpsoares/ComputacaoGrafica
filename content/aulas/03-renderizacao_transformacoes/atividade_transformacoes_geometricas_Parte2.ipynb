{
 "cells": [
  {
   "cell_type": "markdown",
   "metadata": {},
   "source": [
    "# 02 - Transformações Geométricas\n",
    "\n",
    "1. Como você faria essas transformações? Descreva uma sequência de transformações elementares.\n",
    "\n",
    "![Sequência de Transformações](seq_transformacoes.png)"
   ]
  },
  {
   "cell_type": "markdown",
   "metadata": {},
   "source": [
    "a) transformação a."
   ]
  },
  {
   "cell_type": "markdown",
   "metadata": {},
   "source": [
    "b) transformação b."
   ]
  },
  {
   "cell_type": "markdown",
   "metadata": {},
   "source": [
    "c) transformação c."
   ]
  },
  {
   "cell_type": "markdown",
   "metadata": {},
   "source": [
    "2. Crie uma matriz de transformação 2x2 (ou seja, em um espaço 2D) que:\n",
    "\n",
    "a) faça um objeto ficar três vezes mais largo (em x); "
   ]
  },
  {
   "cell_type": "markdown",
   "metadata": {},
   "source": [
    "b) faça um objeto rotacionar 30 graus no sentido horário, em torno da origem; "
   ]
  },
  {
   "cell_type": "markdown",
   "metadata": {},
   "source": [
    "c) faça um objeto rotacionar 45 graus no sentido anti-horário e depois escale com fator 3: "
   ]
  },
  {
   "cell_type": "markdown",
   "metadata": {},
   "source": [
    "3. Crie matrizes de homogênea 3x3 (ou seja, em um espaço 2D) que:\n",
    "\n",
    "a) Translade um objeto em x por 7 e y por 3;\n"
   ]
  },
  {
   "cell_type": "markdown",
   "metadata": {},
   "source": [
    "b) rotacione um objeto de 45 graus no sentido anti-horário em torno do seu centro geométrico."
   ]
  }
 ],
 "metadata": {
  "kernelspec": {
   "display_name": "env",
   "language": "python",
   "name": "python3"
  },
  "language_info": {
   "codemirror_mode": {
    "name": "ipython",
    "version": 3
   },
   "file_extension": ".py",
   "mimetype": "text/x-python",
   "name": "python",
   "nbconvert_exporter": "python",
   "pygments_lexer": "ipython3",
   "version": "3.10.18"
  }
 },
 "nbformat": 4,
 "nbformat_minor": 4
}
