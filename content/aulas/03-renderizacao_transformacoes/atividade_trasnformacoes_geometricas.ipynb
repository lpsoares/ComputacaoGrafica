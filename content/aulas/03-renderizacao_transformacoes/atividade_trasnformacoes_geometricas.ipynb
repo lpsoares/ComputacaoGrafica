{
 "cells": [
  {
   "cell_type": "markdown",
   "metadata": {},
   "source": [
    "# 01 - Transformações Geométricas\n",
    "\n",
    "1. Considere as transformações Rx e Ry, correspondentes a uma reflexão em relação aos eixos x e y, respectivamente. Elas estão ilustradas a seguir.\n",
    "\n",
    "![Reflexões](reflexoes.png)"
   ]
  },
  {
   "cell_type": "markdown",
   "metadata": {},
   "source": [
    "a) Mostre que a transformação Rx é linear."
   ]
  },
  {
   "cell_type": "markdown",
   "metadata": {},
   "source": [
    "b) Determine a matriz das transformações Rx e Ry."
   ]
  },
  {
   "cell_type": "markdown",
   "metadata": {},
   "source": [
    "2. Considere agora as transformações Ri e Rp, correspondentes a uma reflexão em relação à bissetriz dos quadrantes ímpares e à bissetriz dos quadrantes pares, respectivamente. Ambas estão ilustradas a seguir.\n",
    "\n",
    "![Reflexões sobre uma bissetriz](reflexoes_b.png)"
   ]
  },
  {
   "cell_type": "markdown",
   "metadata": {},
   "source": [
    "As transformações Ri e Rp são lineares? Em caso afirmativo, escreva a matriz de transformação. Em caso negativo, justifique."
   ]
  }
 ],
 "metadata": {
  "kernelspec": {
   "display_name": "env",
   "language": "python",
   "name": "python3"
  },
  "language_info": {
   "codemirror_mode": {
    "name": "ipython",
    "version": 3
   },
   "file_extension": ".py",
   "mimetype": "text/x-python",
   "name": "python",
   "nbconvert_exporter": "python",
   "pygments_lexer": "ipython3",
   "version": "3.10.18"
  }
 },
 "nbformat": 4,
 "nbformat_minor": 4
}
