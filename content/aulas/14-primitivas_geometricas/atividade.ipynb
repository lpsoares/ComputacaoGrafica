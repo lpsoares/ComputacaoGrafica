{
 "cells": [
  {
   "attachments": {},
   "cell_type": "markdown",
   "metadata": {},
   "source": [
    "# 14 - Primitivas Geométricas\n",
    "\n",
    "Para essa atividade vamos usar o Numpy e Matplotlib. Assim vamos carregar as bibliotecas."
   ]
  },
  {
   "cell_type": "code",
   "execution_count": null,
   "metadata": {},
   "outputs": [],
   "source": [
    "import numpy as np\n",
    "import matplotlib.pyplot as plt"
   ]
  },
  {
   "attachments": {},
   "cell_type": "markdown",
   "metadata": {},
   "source": [
    "Vamos definir algumas funções auxiliares que vão nos ajudar a interpretar os resultados nos gráficos."
   ]
  },
  {
   "cell_type": "code",
   "execution_count": null,
   "metadata": {},
   "outputs": [],
   "source": [
    "# Faz o setup para desenhar gráficos em 2D\n",
    "def graph():\n",
    "    fig = plt.figure()\n",
    "    ax = plt.axes()\n",
    "    plt.grid()\n",
    "    ax.set_xlim(-4, 4)\n",
    "    ax.set_ylim(-4, 4)\n",
    "    ax.axhline(0, color='black') # deixa o X do eixo 0 em destaque\n",
    "    ax.axvline(0, color='black') # deixa o Y do eixo 0 em destaque\n",
    "    ax.set_aspect('equal')\n",
    "    ax.set(xlabel='x', ylabel='y')\n",
    "\n",
    "    return ax\n",
    "\n",
    "# Faz o setup para desenhar gráficos em 3D\n",
    "def graph3d(c = 1.0):\n",
    "    fig = plt.figure()\n",
    "    ax = plt.axes(projection='3d')\n",
    "    ax.set(xlabel='x', ylabel='y', zlabel='z')\n",
    "    ax.set_xlim3d(-4, 4)  # faixa de visualização de X\n",
    "    ax.set_ylim3d(-3, 3)  # faixa de visualização de Y\n",
    "    ax.set_zlim3d(-4, 4)  # faixa de visualização de Z\n",
    "    #ax.set_aspect('equal') # Não suportado em todas as plataformas\n",
    "    ax.quiver([-c/2,0,0],[0,-c/2,0],[0,0,-c/2],\n",
    "              [c,0,0],[0,c,0],[0,0,c],\n",
    "              arrow_length_ratio=0.2, color=\"grey\")\n",
    "    fig.tight_layout()\n",
    "    ax.view_init(elev=20.0, azim=30.0,  vertical_axis='y')\n",
    "    return ax"
   ]
  },
  {
   "attachments": {},
   "cell_type": "markdown",
   "metadata": {},
   "source": [
    "## Desenhando um Círculo\n",
    "\n",
    "Antes de desenhar uma esfera vamos desenhar um círculo. Assim crei uma função para desenhar alguns pontos em torno do centro do gráfico, para isso você deve passar um raio e quantidade de pontos. Conforme for maior a quantidade de pontos, mais parecido com um círculo sua imagem deverá parecer."
   ]
  },
  {
   "cell_type": "code",
   "execution_count": null,
   "metadata": {},
   "outputs": [],
   "source": [
    "#%matplotlib widget\n",
    "ax = graph() # configura o espaço para desenhar um gráfico 2D\n",
    "\n",
    "# Rotina para desenhar um círculo\n",
    "def circulo(raio, qtd_pontos):\n",
    "    \n",
    "    # AJUSTE E TERMINE AQUI SUA IMPLEMENTAÇÃO\n",
    "    # O CÓDIGO ABAIXO É SÓ UM EXEMPLO COM 4 PONTOS\n",
    "    pontos = np.array([[ 0.5,  0.0, -0.5,  0.0],\n",
    "                       [ 0.0,  0.5,  0.0, -0.5]])\n",
    "    ax.scatter(pontos[0], pontos[1], s=10)\n",
    "\n",
    "circulo(2.5, 80)\n",
    "\n",
    "plt.show()"
   ]
  },
  {
   "attachments": {},
   "cell_type": "markdown",
   "metadata": {},
   "source": [
    "## Desenhando uma Esfera\n",
    "\n",
    "Agora desenha uma esfera. Da mesma forma que o círculo, use um ráio para definir o tamanho da esfera e depois indique o número de divisões na longitude e latitude (u e v)."
   ]
  },
  {
   "cell_type": "code",
   "execution_count": null,
   "metadata": {},
   "outputs": [],
   "source": [
    "#%matplotlib widget\n",
    "ax = graph3d(0.1) # configura o espaço para desenhar um gráfico 3D\n",
    "\n",
    "# Rotina para desenhar uma esfera\n",
    "def esfera(raio, div_lon, div_lat):\n",
    "    \n",
    "    # AJUSTE E TERMINE AQUI SUA IMPLEMENTAÇÃO\n",
    "    # O CÓDIGO ABAIXO É SÓ UM EXEMPLO COM 4 PONTOS\n",
    "    pontos = np.array([[ 0.0, 0.5, 0.0, -0.5,  0.0,  0.0],\n",
    "                       [ 0.5, 0.0, 0.0,  0.0,  0.0, -0.5],\n",
    "                       [ 0.0, 0.0, 0.5,  0.0, -0.5,  0.0]])\n",
    "    ax.scatter(pontos[0], pontos[1], pontos[2], s=10)\n",
    "\n",
    "esfera(2.5, 60, 40)\n",
    "\n",
    "plt.show()"
   ]
  },
  {
   "cell_type": "code",
   "execution_count": null,
   "metadata": {},
   "outputs": [],
   "source": []
  }
 ],
 "metadata": {
  "kernelspec": {
   "display_name": "base",
   "language": "python",
   "name": "python3"
  },
  "language_info": {
   "codemirror_mode": {
    "name": "ipython",
    "version": 3
   },
   "file_extension": ".py",
   "mimetype": "text/x-python",
   "name": "python",
   "nbconvert_exporter": "python",
   "pygments_lexer": "ipython3",
   "version": "3.10.10"
  },
  "vscode": {
   "interpreter": {
    "hash": "ad2bdc8ecc057115af97d19610ffacc2b4e99fae6737bb82f5d7fb13d2f2c186"
   }
  }
 },
 "nbformat": 4,
 "nbformat_minor": 4
}
