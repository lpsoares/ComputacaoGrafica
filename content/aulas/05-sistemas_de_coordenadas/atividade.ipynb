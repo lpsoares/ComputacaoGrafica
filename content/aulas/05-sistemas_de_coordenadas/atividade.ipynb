{
 "cells": [
  {
   "cell_type": "markdown",
   "metadata": {},
   "source": [
    "# 05 - Sistema de Coordenadas\n",
    "\n",
    "A função de LookAt serve para ajustar os objetos na cena em função de uma câmera a ser centralizada e reorientada."
   ]
  },
  {
   "cell_type": "code",
   "execution_count": null,
   "metadata": {},
   "outputs": [],
   "source": [
    "from mpl_toolkits import mplot3d\n",
    "import numpy\n",
    "import matplotlib.pyplot as plt"
   ]
  },
  {
   "cell_type": "code",
   "execution_count": null,
   "metadata": {},
   "outputs": [],
   "source": [
    "%matplotlib widget\n",
    "fig = plt.figure()"
   ]
  },
  {
   "cell_type": "code",
   "execution_count": null,
   "metadata": {},
   "outputs": [],
   "source": [
    "%matplotlib widget\n",
    "ax = plt.axes(projection='3d')\n",
    "ax.set(xlabel='x', ylabel='y', zlabel='z')\n",
    "ax.set_xlim3d(-6, 6)  # faixa de visualização de X\n",
    "ax.set_ylim3d(-6, 6)  # faixa de visualização de Y\n",
    "ax.set_zlim3d(-6, 6)  # faixa de visualização de Z\n",
    "\n",
    "# Câmera\n",
    "camera = numpy.array([9, 2, 0])\n",
    "ax.scatter(*camera[:3], color='red', s=10, marker = \"s\")\n",
    "\n",
    "# Objeto\n",
    "objeto = numpy.array([6, 2, 0])\n",
    "ax.scatter(*objeto[:3], color='blue', s=10, marker = \"x\")\n",
    "\n",
    "plt.show()"
   ]
  },
  {
   "cell_type": "code",
   "execution_count": null,
   "metadata": {},
   "outputs": [],
   "source": [
    "%matplotlib widget\n",
    "\n",
    "ax = plt.axes(projection='3d')\n",
    "# ax.set(xlabel='x', ylabel='y', zlabel='z')\n",
    "# ax.set_xlim3d(-6, 6)  # faixa de visualização de X\n",
    "# ax.set_ylim3d(-6, 6)  # faixa de visualização de Y\n",
    "# ax.set_zlim3d(-6, 6)  # faixa de visualização de Z\n",
    "\n",
    "camera_h = numpy.append(camera, 1)\n",
    "objeto_h = numpy.append(objeto, 1)\n",
    "\n",
    "mat = numpy.array([[1, 0, 0, -4],\n",
    "                  [0, 1, 0, -4],\n",
    "                  [0, 0, 1, -4],\n",
    "                  [0, 0, 0, 1]])\n",
    "\n",
    "# Câmera\n",
    "camera_h = numpy.matmul(mat, camera_h)\n",
    "ax.scatter(*camera_h[:3], color='red', s=10, marker = \"s\")\n",
    "\n",
    "# Objeto\n",
    "objeto_h = numpy.matmul(mat, objeto_h)\n",
    "ax.scatter(*objeto_h[:3], color='blue', s=10, marker = \"x\")\n",
    "\n",
    "plt.show()"
   ]
  },
  {
   "cell_type": "code",
   "execution_count": null,
   "metadata": {},
   "outputs": [],
   "source": []
  },
  {
   "cell_type": "code",
   "execution_count": null,
   "metadata": {},
   "outputs": [],
   "source": []
  }
 ],
 "metadata": {
  "kernelspec": {
   "display_name": "Python 3",
   "language": "python",
   "name": "python3"
  },
  "language_info": {
   "codemirror_mode": {
    "name": "ipython",
    "version": 3
   },
   "file_extension": ".py",
   "mimetype": "text/x-python",
   "name": "python",
   "nbconvert_exporter": "python",
   "pygments_lexer": "ipython3",
   "version": "3.8.10"
  },
  "vscode": {
   "interpreter": {
    "hash": "916dbcbb3f70747c44a77c7bcd40155683ae19c65e1c03b4aa3499c5328201f1"
   }
  }
 },
 "nbformat": 4,
 "nbformat_minor": 4
}
