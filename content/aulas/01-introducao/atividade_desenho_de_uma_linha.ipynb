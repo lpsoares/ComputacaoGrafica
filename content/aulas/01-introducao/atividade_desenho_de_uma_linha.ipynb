{
 "cells": [
  {
   "cell_type": "markdown",
   "metadata": {},
   "source": [
    "# 01 - Desenhando um linha Manualmente"
   ]
  },
  {
   "cell_type": "code",
   "execution_count": 25,
   "metadata": {},
   "outputs": [],
   "source": [
    "from ipycanvas import Canvas\n",
    "import numpy as np\n",
    "import ipywidgets as widgets\n",
    "def cria_grid(p1, p2, cor):\n",
    "    # Grid size and cell size for a compact display\n",
    "    rows, cols = 9, 13\n",
    "    cell_size = 32\n",
    "    label_space = 22  # space for row/col numbers\n",
    "    canvas_width = cols * cell_size + label_space\n",
    "    canvas_height = rows * cell_size + label_space\n",
    "\n",
    "    # Create a blank grid\n",
    "    grid = np.zeros((rows, cols), dtype=int)\n",
    "\n",
    "    # Fixed start and end points for the activity\n",
    "    start = p1\n",
    "    end = p2\n",
    "\n",
    "    def draw_grid():\n",
    "        canvas.clear()\n",
    "        # Draw column numbers\n",
    "        canvas.font = '16px sans-serif'\n",
    "        canvas.fill_style = '#222'\n",
    "        for j in range(cols):\n",
    "            canvas.fill_text(str(j), label_space + j*cell_size + cell_size//2 - 6, label_space - 6)\n",
    "        # Draw row numbers\n",
    "        for i in range(rows):\n",
    "            canvas.fill_text(str(i), 2, label_space + i*cell_size + cell_size//2 + 6)\n",
    "        # Draw grid lines\n",
    "        for i in range(rows+1):\n",
    "            canvas.stroke_style = '#bbb'\n",
    "            canvas.stroke_line(label_space, label_space + i*cell_size, canvas_width, label_space + i*cell_size)\n",
    "        for j in range(cols+1):\n",
    "            canvas.stroke_style = '#bbb'\n",
    "            canvas.stroke_line(label_space + j*cell_size, label_space, label_space + j*cell_size, canvas_height)\n",
    "        # Draw painted cells\n",
    "        for i in range(rows):\n",
    "            for j in range(cols):\n",
    "                if grid[i, j] == 1:\n",
    "                    canvas.fill_style = '#1976d2'\n",
    "                    canvas.fill_rect(label_space + j*cell_size + 1, label_space + i*cell_size + 1, cell_size-2, cell_size-2)\n",
    "        # Draw start and end points\n",
    "        canvas.fill_style = cor\n",
    "        canvas.fill_rect(label_space + start[1]*cell_size + 1, label_space + start[0]*cell_size + 1, cell_size-2, cell_size-2)\n",
    "        canvas.fill_rect(label_space + end[1]*cell_size + 1, label_space + end[0]*cell_size + 1, cell_size-2, cell_size-2)\n",
    "\n",
    "    canvas = Canvas(width=canvas_width, height=canvas_height)\n",
    "    draw_grid()\n",
    "\n",
    "    painting = [False]\n",
    "\n",
    "    def paint_cell(x, y):\n",
    "        col = int((x - label_space) // cell_size)\n",
    "        row = int((y - label_space) // cell_size)\n",
    "        if 0 <= row < rows and 0 <= col < cols:\n",
    "            if grid[row, col] == 0 and (row, col) != start and (row, col) != end:\n",
    "                grid[row, col] = 1\n",
    "                draw_grid()\n",
    "\n",
    "    def on_mouse_down(x, y):\n",
    "        painting[0] = True\n",
    "        paint_cell(x, y)\n",
    "\n",
    "    def on_mouse_up(x, y):\n",
    "        painting[0] = False\n",
    "\n",
    "    def on_mouse_move(x, y):\n",
    "        if painting[0]:\n",
    "            paint_cell(x, y)\n",
    "\n",
    "    canvas.on_mouse_down(on_mouse_down)\n",
    "    canvas.on_mouse_up(on_mouse_up)\n",
    "    canvas.on_mouse_move(on_mouse_move)\n",
    "\n",
    "    # Button to clear grid\n",
    "    def clear_grid(_):\n",
    "        grid[:, :] = 0\n",
    "        draw_grid()\n",
    "\n",
    "    clear_btn = widgets.Button(description='Limpar grade')\n",
    "    clear_btn.on_click(clear_grid)\n",
    "\n",
    "    # Center the canvas using a Box with layout\n",
    "    centered = widgets.HBox([canvas], layout=widgets.Layout(justify_content='center'))\n",
    "    display(widgets.VBox([centered, clear_btn]))"
   ]
  },
  {
   "cell_type": "markdown",
   "metadata": {},
   "source": [
    "1. Desenhe uma linha usando o algoritmo de Bresenham, ligando os pontos A(3, 2) e B(9, 7). Use o mouse para pintar uma linha entre os dois pontos destacados na grade abaixo. Clique e arraste para \"pintar\" as células."
   ]
  },
  {
   "cell_type": "code",
   "execution_count": 26,
   "metadata": {},
   "outputs": [
    {
     "data": {
      "application/vnd.jupyter.widget-view+json": {
       "model_id": "2cc462ad31184e408d6baa72f1fb9739",
       "version_major": 2,
       "version_minor": 0
      },
      "text/plain": [
       "VBox(children=(HBox(children=(Canvas(height=310, width=438),), layout=Layout(justify_content='center')), Butto…"
      ]
     },
     "metadata": {},
     "output_type": "display_data"
    }
   ],
   "source": [
    "cria_grid(p1=(2,3), p2=(7,9), cor='#43a047')  # Call the function to display the grid"
   ]
  },
  {
   "cell_type": "markdown",
   "metadata": {},
   "source": [
    "2. Novamente com o algoritmo de Bresenham, desenhe uma linha reta ligando os pontos C(2, 1) e D(4, 17)."
   ]
  },
  {
   "cell_type": "code",
   "execution_count": 27,
   "metadata": {},
   "outputs": [
    {
     "data": {
      "application/vnd.jupyter.widget-view+json": {
       "model_id": "7905241910d74eaf8e1fdda1f9953727",
       "version_major": 2,
       "version_minor": 0
      },
      "text/plain": [
       "VBox(children=(HBox(children=(Canvas(height=310, width=438),), layout=Layout(justify_content='center')), Butto…"
      ]
     },
     "metadata": {},
     "output_type": "display_data"
    }
   ],
   "source": [
    "cria_grid(p1=(2,1), p2=(7,4), cor='#e36047')  # Call the function to display the grid"
   ]
  },
  {
   "cell_type": "markdown",
   "metadata": {},
   "source": [
    "3. O resultado obtido no item 2 foi certamente muito pior do que o do item 1.\n",
    "\n",
    "a) A que você atribui essa diferença?\n",
    "\n",
    "b) Proponha uma alteração no algoritmo de forma a se obter um resultado satisfatório na linha do item 2.\n",
    "\n",
    "c) Tente imaginar outras situações em que o algoritmo de Bresenham deveria ser adaptado para proporcionar um resultado satisfatório na construção de uma linha."
   ]
  }
 ],
 "metadata": {
  "kernelspec": {
   "display_name": "env",
   "language": "python",
   "name": "python3"
  },
  "language_info": {
   "codemirror_mode": {
    "name": "ipython",
    "version": 3
   },
   "file_extension": ".py",
   "mimetype": "text/x-python",
   "name": "python",
   "nbconvert_exporter": "python",
   "pygments_lexer": "ipython3",
   "version": "3.10.18"
  }
 },
 "nbformat": 4,
 "nbformat_minor": 4
}
