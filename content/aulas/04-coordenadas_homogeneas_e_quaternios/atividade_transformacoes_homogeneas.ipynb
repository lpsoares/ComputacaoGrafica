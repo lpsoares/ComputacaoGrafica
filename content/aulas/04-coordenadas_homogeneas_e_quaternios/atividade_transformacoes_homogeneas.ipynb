{
 "cells": [
  {
   "attachments": {},
   "cell_type": "markdown",
   "metadata": {},
   "source": [
    "# 03 - Transformações Homogêneas em 3D\n",
    "\n",
    "Os links abaixo mostram como calcular a matriz de transformação 2D e 3D em Python:\n",
    "\n",
    "\n",
    "2D\n",
    "[https://alexsm.com/homogeneous-transforms/](https://alexsm.com/homogeneous-transforms/)\n",
    "\n",
    "\n",
    "3D\n",
    "[https://diegoinacio.github.io/computer-vision-notebooks-page/pages/3DTransformation_Matrix.html](https://diegoinacio.github.io/computer-vision-notebooks-page/pages/3DTransformation_Matrix.html)\n"
   ]
  }
 ],
 "metadata": {
  "kernelspec": {
   "display_name": "Python 3 (ipykernel)",
   "language": "python",
   "name": "python3"
  },
  "language_info": {
   "codemirror_mode": {
    "name": "ipython",
    "version": 3
   },
   "file_extension": ".py",
   "mimetype": "text/x-python",
   "name": "python",
   "nbconvert_exporter": "python",
   "pygments_lexer": "ipython3",
   "version": "3.11.1"
  },
  "vscode": {
   "interpreter": {
    "hash": "5c7b89af1651d0b8571dde13640ecdccf7d5a6204171d6ab33e7c296e100e08a"
   }
  }
 },
 "nbformat": 4,
 "nbformat_minor": 4
}
