{
 "cells": [
  {
   "attachments": {},
   "cell_type": "markdown",
   "metadata": {},
   "source": [
    "# 05 - Coordenadas Homogêneas e Quatérnios\n",
    "\n",
    "Como\n",
    "\n",
    "1. algoritmos \n",
    "1. implementações\n",
    "1. Teste\n",
    "\n",
    "Na atividade de hoje vamos estudar o primeiro ponto e quantificar o efeito de algoritmos eficientes na resolução de um problema complexo. \n",
    "\n",
    "## Problemas\n",
    "\n",
    "Realizar testes de maneira automatizada é muito importante para quantificar os efeitos de diferentes algoritmos e técnicas de paralelismo. O snippet abaixo executa "
   ]
  },
  {
   "cell_type": "code",
   "execution_count": null,
   "metadata": {},
   "outputs": [],
   "source": [
    "#%matplotlib notebook\n",
    "%matplotlib inline\n",
    "\n",
    "from mpl_toolkits import mplot3d\n",
    "import numpy as np\n",
    "import matplotlib.pyplot as plt\n",
    "\n",
    "fig = plt.figure()\n",
    "ax = plt.axes(projection='3d')\n",
    "\n",
    "ax.set(xlabel='x', ylabel='y', zlabel='z')"
   ]
  },
  {
   "cell_type": "code",
   "execution_count": null,
   "metadata": {},
   "outputs": [],
   "source": [
    "coord = np.array([2, 2, 2, 1])\n",
    "\n",
    "ax = plt.axes(projection='3d')\n",
    "# marker='*'\n",
    "\n",
    "ax.set(xlabel='x', ylabel='y', zlabel='z')\n",
    "\n",
    "ax.set_zlim3d(-3, 3)                    # viewrange for z-axis\n",
    "ax.set_ylim3d(-3, 3)                    # viewrange for y-axis\n",
    "ax.set_xlim3d(-3, 3)                    # viewrange for x-axis\n",
    "\n",
    "ax.scatter(*coord[:3], color='red', s=10)"
   ]
  },
  {
   "cell_type": "code",
   "execution_count": null,
   "metadata": {},
   "outputs": [],
   "source": [
    "coord = np.array([2, 2, 2, 1])\n",
    "\n",
    "mat = np.array([[1, 0, 0, -1],\n",
    "                [0, 1, 0, -1],\n",
    "                [0, 0, 1, -1],\n",
    "                [0, 0, 0, 1]])\n",
    "\n",
    "move = np.matmul(mat, coord)\n",
    "#print(move)\n",
    "\n",
    "ax = plt.axes(projection='3d')\n",
    "# marker='*'\n",
    "\n",
    "ax.set(xlabel='x', ylabel='y', zlabel='z')\n",
    "\n",
    "ax.set_zlim3d(-3, 3)                    # viewrange for z-axis\n",
    "ax.set_ylim3d(-3, 3)                    # viewrange for y-axis\n",
    "ax.set_xlim3d(-3, 3)                    # viewrange for x-axis\n",
    "\n",
    "ax.scatter(*move[:3], color='red', s=10)"
   ]
  },
  {
   "cell_type": "code",
   "execution_count": null,
   "metadata": {},
   "outputs": [],
   "source": [
    "ax = plt.axes(projection='3d')\n",
    "\n",
    "# Data for a three-dimensional line\n",
    "zline = np.linspace(0, 15, 1000)\n",
    "xline = np.sin(zline)\n",
    "yline = np.cos(zline)\n",
    "ax.plot3D(xline, yline, zline, 'gray')\n",
    "\n",
    "# Data for three-dimensional scattered points\n",
    "zdata = 15 * np.random.random(100)\n",
    "xdata = np.sin(zdata) + 0.1 * np.random.randn(100)\n",
    "ydata = np.cos(zdata) + 0.1 * np.random.randn(100)\n",
    "ax.scatter3D(xdata, ydata, zdata, c=zdata, cmap='Greens');"
   ]
  },
  {
   "cell_type": "code",
   "execution_count": null,
   "metadata": {},
   "outputs": [],
   "source": [
    "theta = np.linspace(0, 2*np.pi)\n",
    "x = np.cos(theta - np.pi/2)\n",
    "y = np.sin(theta - np.pi/2)\n",
    "z = theta\n",
    "\n",
    "fig, ax = plt.subplots(subplot_kw=dict(projection='3d'))\n",
    "ax.stem(x, y, z)\n",
    "\n",
    "# plt.show()"
   ]
  },
  {
   "cell_type": "code",
   "execution_count": null,
   "metadata": {},
   "outputs": [],
   "source": [
    "dates       = [4, 5, 6, 7, 9]\n",
    "highs       = [5, 8, 12, 8, 3]\n",
    "lows        = [17, 13, 19, 14, 12]\n",
    "\n",
    "zaxisvalues0= [0, 0, 0, 0, 0]\n",
    "zaxisvalues1= [1, 1, 1, 1, 1]\n",
    "zaxisvalues2= [2, 2, 2, 2, 2]\n",
    "\n",
    "ax = plt.axes(projection='3d')\n",
    "\n",
    "for i,j,k,h in zip(dates,zaxisvalues0,lows,highs):\n",
    "    ax.plot([i,i],[j,j],[k,h],color = 'g')\n",
    "\n",
    "ax.scatter(dates, zaxisvalues0, highs, color = 'g', marker = \"o\")\n",
    "ax.scatter(dates, zaxisvalues0, lows, color = 'y', marker = \"^\")\n",
    "\n",
    "Xs = [4, 5, 5, 6, 6]\n",
    "Ys = [1, 1, 2, 2, 3]\n",
    "Zs = [1, 1, 5, 1, 1]\n",
    "ax.plot3D(Xs, Ys, Zs, 'gray')\n"
   ]
  },
  {
   "cell_type": "code",
   "execution_count": null,
   "metadata": {},
   "outputs": [],
   "source": [
    "https://diegoinacio.github.io/computer-vision-notebooks-page/pages/3DTransformation_Matrix.html"
   ]
  },
  {
   "cell_type": "code",
   "execution_count": null,
   "metadata": {},
   "outputs": [],
   "source": []
  }
 ],
 "metadata": {
  "kernelspec": {
   "display_name": "Python 3 (ipykernel)",
   "language": "python",
   "name": "python3"
  },
  "language_info": {
   "codemirror_mode": {
    "name": "ipython",
    "version": 3
   },
   "file_extension": ".py",
   "mimetype": "text/x-python",
   "name": "python",
   "nbconvert_exporter": "python",
   "pygments_lexer": "ipython3",
   "version": "3.11.1"
  },
  "vscode": {
   "interpreter": {
    "hash": "5c7b89af1651d0b8571dde13640ecdccf7d5a6204171d6ab33e7c296e100e08a"
   }
  }
 },
 "nbformat": 4,
 "nbformat_minor": 4
}
