{
 "cells": [
  {
   "cell_type": "markdown",
   "metadata": {},
   "source": [
    "# 09 - Interpolação em Triângulos\n",
    "\n",
    "Para essa atividade vamos usar o Numpy e Matplotlib. Assim vamos carregar as bibliotecas."
   ]
  },
  {
   "cell_type": "code",
   "execution_count": 10,
   "metadata": {},
   "outputs": [],
   "source": [
    "import numpy as np\n",
    "import matplotlib\n",
    "import matplotlib.pyplot as plt\n",
    "import matplotlib.tri as mtri\n"
   ]
  },
  {
   "cell_type": "markdown",
   "metadata": {},
   "source": [
    "Vamos definir algumas funções auxiliares que vão nos ajudar a exibir os gráficos."
   ]
  },
  {
   "cell_type": "code",
   "execution_count": 31,
   "metadata": {},
   "outputs": [],
   "source": [
    "# Faz o setup para desenhar gráficos\n",
    "def graph():\n",
    "    fig = plt.figure()\n",
    "    ax = plt.axes()\n",
    "    plt.grid()\n",
    "    ax.set_xlim(-4, 4)\n",
    "    ax.set_ylim(-4, 4)\n",
    "    ax.axhline(0, color='black') # deixa o X do eixo 0 em destaque\n",
    "    ax.axvline(0, color='black') # deixa o Y do eixo 0 em destaque\n",
    "    ax.set_aspect('equal') # Não suportado em todas as plataformas\n",
    "    ax.set(xlabel='x', ylabel='y')\n",
    "    fig.tight_layout()\n",
    "    return ax\n",
    "\n",
    "# Fonte: https://stackoverflow.com/questions/41596386/tripcolor-using-rgb-values-for-each-vertex\n",
    "def colors_to_cmap(colors):\n",
    "    colors = np.asarray(colors)\n",
    "    if colors.shape[1] == 3:\n",
    "        colors = np.hstack((colors, np.ones((len(colors),1))))\n",
    "    steps = (0.5 + np.asarray(range(len(colors)-1), dtype=float))/(len(colors) - 1)\n",
    "    return matplotlib.colors.LinearSegmentedColormap(\n",
    "        'auto_cmap',\n",
    "        {clrname: ([(0, col[0], col[0])] + \n",
    "                   [(step, c0, c1) for (step,c0,c1) in zip(steps, col[:-1], col[1:])] + \n",
    "                   [(1, col[-1], col[-1])])\n",
    "         for (clridx,clrname) in enumerate(['red', 'green', 'blue', 'alpha'])\n",
    "         for col in [colors[:,clridx]]},\n",
    "        N=len(colors))\n",
    "\n",
    "def draw_triangle(poly, colors):\n",
    "    triangles = np.asarray([[0, 1, 2]])\n",
    "    triang = mtri.Triangulation(poly[0], poly[1], triangles)\n",
    "    cmap = colors_to_cmap(colors)\n",
    "    zs = np.asarray(range(3), dtype=float)/2\n",
    "    plt.tripcolor(triang, zs, cmap=cmap, shading='gouraud' )\n",
    "    plt.grid()\n",
    "    plt.scatter(poly[0], poly[1], s=20, color=colors)"
   ]
  },
  {
   "cell_type": "markdown",
   "metadata": {},
   "source": [
    "O código abaixo desenha um boneco (parecido com o visto em aula), para o código funcionar corretamente, você deve desenvolver as rotinas de push e pop, e colocar elas no local correto. Não modifique o resto do código, coloca as chamadas somente nos locais indicados."
   ]
  },
  {
   "cell_type": "code",
   "execution_count": 32,
   "metadata": {},
   "outputs": [
    {
     "data": {
      "image/png": "[encoded data removed]",
      "text/plain": [
       "<Figure size 640x480 with 1 Axes>"
      ]
     },
     "metadata": {},
     "output_type": "display_data"
    }
   ],
   "source": [
    "ax = graph() # configura o espaço para desenhar um gráfico 2D\n",
    "\n",
    "poly = np.array([[ -2.0,  2.0, 0.0],\n",
    "                 [ -2.0, -2.0, 1.0]])\n",
    "colors = np.asarray( [[1.0,0.0,0.0],\n",
    "                      [0.0,1.0,0.0], \n",
    "                      [0.0,0.0,1.0]] )\n",
    "\n",
    "# Triângulo\n",
    "draw_triangle(poly, colors) # Desenha triângulo colorido\n",
    "\n",
    "plt.show()"
   ]
  },
  {
   "cell_type": "code",
   "execution_count": null,
   "metadata": {},
   "outputs": [],
   "source": [
    "\n",
    "\n"
   ]
  }
 ],
 "metadata": {
  "kernelspec": {
   "display_name": "Python 3 (ipykernel)",
   "language": "python",
   "name": "python3"
  },
  "language_info": {
   "codemirror_mode": {
    "name": "ipython",
    "version": 3
   },
   "file_extension": ".py",
   "mimetype": "text/x-python",
   "name": "python",
   "nbconvert_exporter": "python",
   "pygments_lexer": "ipython3",
   "version": "3.10.10"
  },
  "vscode": {
   "interpreter": {
    "hash": "ad2bdc8ecc057115af97d19610ffacc2b4e99fae6737bb82f5d7fb13d2f2c186"
   }
  }
 },
 "nbformat": 4,
 "nbformat_minor": 4
}
